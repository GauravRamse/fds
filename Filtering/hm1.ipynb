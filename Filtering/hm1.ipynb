{
 "cells": [
  {
   "cell_type": "markdown",
   "metadata": {},
   "source": [
    "# QUESTION 1"
   ]
  },
  {
   "cell_type": "code",
   "execution_count": null,
   "metadata": {},
   "outputs": [],
   "source": [
    "import numpy as np\n",
    "import math\n",
    "import matplotlib.pyplot as plt\n",
    "from scipy.signal import convolve2d as conv2\n",
    "from PIL import Image\n",
    "import gauss_module"
   ]
  },
  {
   "cell_type": "markdown",
   "metadata": {},
   "source": [
    "## function gauss (Question 1.a)"
   ]
  },
  {
   "cell_type": "markdown",
   "metadata": {},
   "source": [
    "#### Gaussian function taking as argument the standard deviation sigma\n",
    "The filter should be defined for all integer values x in the range [-3sigma,3sigma]\n",
    "The function should return the Gaussian values Gx computed at the indexes x"
   ]
  },
  {
   "cell_type": "code",
   "execution_count": null,
   "metadata": {},
   "outputs": [],
   "source": [
    "def gauss(sigma): #sigma = 4.0\n",
    "    #...\n",
    "    #Generate a vector x of values on which the Gaussian filter is defined: integer values on the interval [-3*sigma, 3*sigma]\n",
    "    low = -3*sigma\n",
    "    high = (3*sigma)+1\n",
    "    range_x = [int(i) for i in range(low,high)]\n",
    "    Gx = [] #suggestion martina: dictionary instead?\n",
    "    for x in range_x:\n",
    "        G = (math.exp((-x ** 2) / (2 * (sigma ** 2))))* (1 / math.sqrt(2 * math.pi * sigma))\n",
    "        Gx.append(G) \n",
    "    return Gx, range_x \n",
    "    #for x in [-3sigma,3sigma,1] (integers)\n",
    "    #gaussian equation on x\n",
    "    #generate gx, an ordered list of indexes x (type list/dictionary)\n",
    "\n"
   ]
  },
  {
   "cell_type": "markdown",
   "metadata": {},
   "source": [
    "## function gaussianfilter (Question 1.b)"
   ]
  },
  {
   "cell_type": "markdown",
   "metadata": {},
   "source": [
    "#### Implement a 2D Gaussian filter, leveraging the previous gauss.\n",
    "Implement the filter from scratch or leverage the convolve2D method (scipy.signal).\n",
    "Leverage the separability of Gaussian filtering.\n",
    "\n",
    "Use the fact that 2D Gaussian filter is separable to speed up computations and obtain full points for this\n",
    "exercise.\n",
    "\n",
    "Input: image, sigma (standard deviation).\n",
    "Output: smoothed image."
   ]
  },
  {
   "cell_type": "code",
   "execution_count": null,
   "metadata": {},
   "outputs": [],
   "source": [
    "def gaussianfilter(img, sigma):\n",
    "    #...\n",
    "    #col = img.size[0]\n",
    "    #row = img.size[1]\n",
    "    #tmp_img = np.zeros((row,col)) #define an empty matrix (img) with the same dimension of the input img\n",
    "    kernel = ((13,13)) # suggestion martina: maybe (sigma*3+1) for flexibility\n",
    "    #fill the kernel with the values on which the G filter is defined (range [-3*sigma,3*sigma])\n",
    "    low = -3*sigma\n",
    "    high = (3*sigma)+1\n",
    "    kernel = [int(i,j) for i,j in range(low,high)]\n",
    "    #extact the first col of the kernel\n",
    "    Gx = kernel[:, 0]\n",
    "    #extract the first row of the kernel\n",
    "    Gy = kernel[0, :]\n",
    "    #computing the first convolution\n",
    "    tmp_img = scipy.signal.conv2d(img.flatten(),Gx,mode='full', boundary='fill', fillvalue=0)\n",
    "    #comment martina: discuss default values of pads\n",
    "    #using img.flatten() because the first argument of the conv2d() must be an array, as the second one\n",
    "    #now tmp_img (the output of the first convolution) is an array\n",
    "    #computing the second convolution (on the output of the first one)\n",
    "    smooth_img = scipy.signal.conv2d(tmp_img,Gy,mode='full', boundary='fill', fillvalue=0)\n",
    "    #SOURCE: https://docs.scipy.org/doc/scipy/reference/generated/scipy.signal.convolve2d.html\n",
    "    return smooth_img"
   ]
  },
  {
   "cell_type": "markdown",
   "metadata": {},
   "source": [
    "## function gaussdx (Question 1.c)\n"
   ]
  },
  {
   "cell_type": "markdown",
   "metadata": {},
   "source": [
    "#### Gaussian derivative function taking as argument the standard deviation sigma\n",
    "The filter should be defined for all integer values x in the range [-3sigma,3sigma]\n",
    "\n",
    "The function should return the Gaussian derivative values Dx computed at the indexes x"
   ]
  },
  {
   "cell_type": "code",
   "execution_count": null,
   "metadata": {},
   "outputs": [],
   "source": [
    "def gaussdx(sigma):\n",
    "    low = -3*sigma\n",
    "    high = (3*sigma)+1\n",
    "    range_x = [int(i) for i in range(low,high)]\n",
    "    Dx = [] \n",
    "    for x in range_x:\n",
    "        d= -(x/(sqrt(2*math.pi)*sigma**3))*(math.e**(-x**2/2*sigma))\n",
    "        #source: http://campar.in.tum.de/Chair/HaukeHeibelGaussianDerivatives\n",
    "        Dx.append(d) \n",
    "    return Dx, range_x\n"
   ]
  },
  {
   "cell_type": "markdown",
   "metadata": {},
   "source": [
    "## function gaussdx (Question 1.d)\n"
   ]
  },
  {
   "cell_type": "code",
   "execution_count": null,
   "metadata": {},
   "outputs": [],
   "source": [
    "img_imp = np.zeros([27,27])\n",
    "img_imp[13, 13] = 1.0\n",
    "plt.figure(6), plt.imshow(img_imp, cmap='gray')\n",
    "\n",
    "sigma = 7.0\n",
    "[Gx, x] = gauss_module.gauss(sigma)\n",
    "[Dx, x] = gauss_module.gaussdx(sigma)\n",
    "\n",
    "Gx = Gx.reshape(1, Gx.size)\n",
    "Dx = Dx.reshape(1, Dx.size)\n",
    "\n",
    "plt.figure(7)\n",
    "plt.subplot(2,3,1)\n",
    "plt.imshow(conv2(conv2(img_imp, Gx, 'same'), Gx.T, 'same') , cmap='gray')\n",
    "plt.subplot(2,3,2)\n",
    "plt.imshow(conv2(conv2(img_imp, Gx, 'same'), Dx.T, 'same') , cmap='gray')\n",
    "plt.subplot(2,3,3)\n",
    "plt.imshow(conv2(conv2(img_imp, Dx.T, 'same'), Gx, 'same') , cmap='gray')\n",
    "plt.subplot(2,3,4)\n",
    "plt.imshow(conv2(conv2(img_imp, Dx, 'same'), Dx.T, 'same') , cmap='gray')\n",
    "plt.subplot(2,3,5)\n",
    "plt.imshow(conv2(conv2(img_imp, Dx, 'same'), Gx.T, 'same') , cmap='gray')\n",
    "plt.subplot(2,3,6)\n",
    "plt.imshow(conv2(conv2(img_imp, Gx.T, 'same'), Dx, 'same') , cmap='gray')\n",
    "plt.show()\n"
   ]
  },
  {
   "cell_type": "markdown",
   "metadata": {},
   "source": [
    "#### report"
   ]
  },
  {
   "cell_type": "code",
   "execution_count": null,
   "metadata": {},
   "outputs": [],
   "source": []
  },
  {
   "cell_type": "markdown",
   "metadata": {},
   "source": [
    "## function gaussderiv (Question 1.e)"
   ]
  },
  {
   "cell_type": "code",
   "execution_count": null,
   "metadata": {},
   "outputs": [],
   "source": [
    "def gaussderiv(img, sigma):\n",
    "\n",
    "    \n",
    "    \n",
    "    return imgDx, imgDy"
   ]
  },
  {
   "cell_type": "code",
   "execution_count": 1,
   "metadata": {},
   "outputs": [],
   "source": [
    "def rgb2gray(rgb):\n",
    "\n",
    "    r, g, b = rgb[:,:,0], rgb[:,:,1], rgb[:,:,2]\n",
    "    gray = 0.2989 * r + 0.5870 * g + 0.1140 * b\n",
    "\n",
    "    return gray"
   ]
  },
  {
   "cell_type": "code",
   "execution_count": null,
   "metadata": {},
   "outputs": [],
   "source": [
    "img_c = np.array(Image.open('graf.png')).astype('double')\n",
    "img = rgb2gray(img_c)\n",
    "[imgDx, imgDy] = gauss_module.gaussderiv(img, 7.0)\n",
    "\n",
    "plt.figure(8)\n",
    "ax1 = plt.subplot(1,3,1)\n",
    "ax2 = plt.subplot(1,3,2)\n",
    "ax3 = plt.subplot(1,3,3)\n",
    "plt.sca(ax1)\n",
    "plt.imshow(imgDx, cmap='gray')\n",
    "plt.sca(ax2)\n",
    "plt.imshow(imgDy, cmap='gray')\n",
    "plt.sca(ax3)\n",
    "imgmag = np.sqrt(imgDx**2 + imgDy**2)\n",
    "plt.imshow(imgmag, cmap='gray')\n",
    "plt.show()\n"
   ]
  },
  {
   "cell_type": "code",
   "execution_count": null,
   "metadata": {},
   "outputs": [],
   "source": []
  },
  {
   "cell_type": "code",
   "execution_count": null,
   "metadata": {},
   "outputs": [],
   "source": []
  },
  {
   "cell_type": "code",
   "execution_count": null,
   "metadata": {},
   "outputs": [],
   "source": [
    "/*Operazione che serve a migliorare il contrasto e produrre un istogramma 'piatto' ovvero con livelli di grigio uniformemente distribuiti sui pixel.\n",
    "Consiste nel ricalcolare i valori di grigio dei pixel di un immagine, in funzione della probabilità di occorrenza del livello di grigio originale,\n",
    "cioè p(r)=nk/nm dove nm=tot pixel dell'immagine. La formula da applicare è sk= L-1 * nk/nm dove L è il livello di colore ovvero 256*/\n",
    "#include <stdio.h>\n",
    "#include <opencv2/opencv.hpp>\n",
    "using namespace std;\n",
    "using namespace cv;\n",
    "void equalizzazione(Mat &sorgente, Mat &destionazione);\n",
    "​\n",
    "int main (int argc, char** argv){\n",
    "  Mat sorgente = imread(\"caffe.tif\", IMREAD_GRAYSCALE); //acquisizione immagine\n",
    "  if (sorgente.empty()){ //CONTROLLO CORRETTA ACQUISIZIONE DELL'IMMAGINE\n",
    "    cout << \"Impossibile aprire l'immagine\" << endl;\n",
    "    return EXIT_FAILURE;\n",
    "  }\n",
    "  imshow(\"Caffe prima dell'equalizzazione\",sorgente);\n",
    "  Mat destinazione = sorgente.clone();\n",
    "  equalizzazione(sorgente,destinazione);\n",
    "  imshow(\"Caffe dopo l'equalizzazione\", destinazione);\n",
    "  imwrite(\"img_equalizzata.jpg\",destinazione);\n",
    "  waitKey(0);\n",
    "  return EXIT_SUCCESS;\n",
    "}\n",
    "​\n",
    "void equalizzazione(Mat &sorgente,Mat &destinazione){\n",
    "  vector <float> istogramma1(256,0); //istogramma pre-equalizzazione 256 elementi inizializzati a 0\n",
    "  auto nm = sorgente.rows * sorgente.cols; //nm=tot pixel immagine\n",
    "  auto L = 256; //livello di colore pari a 256\n",
    "  vector<int> occorrenze(L-1);\n",
    "  //calcola tutte le occorrenze di  un dato rk\n",
    "\tfor(int i=0; i<sorgente.rows; i++) {\n",
    "\t\tfor(int j=0; j<sorgente.cols; j++) {\n",
    "\t\t\toccorrenze.at((int)sorgente.at<uchar>(i,j))++; \t\n",
    "\t\t}\n",
    "\t}\n",
    "\tvector<double> Pr(L-1);\n",
    "  //calcola tutte le probabilità Pr di un dato rk di comparire in un img\n",
    "\tfor(int i=0; i<L-1; i++) {\n",
    "\t\tPr.at(i) = (double)occorrenze.at(i)/nm; //Pr(rk) = nk/MxN\n",
    "\t}\n",
    "\tvector<double> sk(L-1);\n",
    "  //somma tutte le probabilità con la formula sk=L-1*Sommatoria da j=0 to k di Pr(rk)\n",
    "\tdouble pixel_value = 0;\n",
    "\tfor(int i=0; i<Pr.size(); i++) {\n",
    "\t\tpixel_value += (L-1)*(Pr.at(i));\n",
    "\t\tsk.at(i) = pixel_value;\n",
    "\t}\n",
    "  //Ora inserisce i pixel equalizzati nella immagine di destinazione\n",
    "\tfor(int i=0; i<sorgente.rows; i++) {\n",
    "\t\tfor(int j=0; j<sorgente.cols; j++) {\n",
    "\t\t\tdestinazione.at<uchar>(i,j) = floor(sk.at((int)sorgente.at<uchar>(i,j)));\n",
    "\t\t}"
   ]
  }
 ],
 "metadata": {
  "kernelspec": {
   "display_name": "Python 3",
   "language": "python",
   "name": "python3"
  },
  "language_info": {
   "codemirror_mode": {
    "name": "ipython",
    "version": 3
   },
   "file_extension": ".py",
   "mimetype": "text/x-python",
   "name": "python",
   "nbconvert_exporter": "python",
   "pygments_lexer": "ipython3",
   "version": "3.8.3"
  }
 },
 "nbformat": 4,
 "nbformat_minor": 4
}
